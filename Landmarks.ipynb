{
 "cells": [
  {
   "cell_type": "code",
   "execution_count": null,
   "metadata": {},
   "outputs": [],
   "source": [
    "from imutils import face_utils\n",
    "import numpy as np\n",
    "import argparse\n",
    "import imutils\n",
    "import dlib\n",
    "import cv2\n",
    "rgb = cv2.VideoCapture(0)\n",
    "detector = dlib.get_frontal_face_detector()\n",
    "predictor = dlib.shape_predictor(\"shape_predictor_68_face_landmarks.dat\")\n",
    "clahe = cv2.createCLAHE(clipLimit=2.0, tileGridSize=(8,8))\n",
    "\n",
    "while True:\n",
    "    ret, image = rgb.read()\n",
    "    blank = cv2.imread('blank.png')\n",
    "    org = image\n",
    "    image = imutils.resize(image, width=300)\n",
    "    gray = cv2.cvtColor(image, cv2.COLOR_BGR2GRAY)\n",
    "    gray = clahe.apply(gray)\n",
    "    rects = detector(gray, 1)\n",
    "    for (i, rect) in enumerate(rects):\n",
    "        shape = predictor(gray, rect)\n",
    "        shape = face_utils.shape_to_np(shape)\n",
    "        (x, y, w, h) = face_utils.rect_to_bb(rect)\n",
    "        for (x, y) in shape:\n",
    "            cv2.circle(image, (x, y), 1, (0, 0, 255), -1)\n",
    "    if cv2.waitKey(1) == 27:\n",
    "        break\n",
    "    cv2.imshow('Filter1', org)\n",
    "    cv2.imshow('Filter2', image)\n",
    "    cv2.imshow('Filter3', blank)\n",
    "cv2.destroyAllWindows()"
   ]
  },
  {
   "cell_type": "code",
   "execution_count": 13,
   "metadata": {},
   "outputs": [],
   "source": [
    "from imutils import face_utils\n",
    "import numpy as np\n",
    "import argparse\n",
    "import imutils\n",
    "import dlib\n",
    "import cv2\n",
    "\n",
    "detector = dlib.get_frontal_face_detector()\n",
    "clahe = cv2.createCLAHE(clipLimit=2.0, tileGridSize=(8,8))\n",
    "predictor = dlib.shape_predictor(\"shape_predictor_68_face_landmarks.dat\")\n",
    "image = cv2.imread(\"jim_angle_front.jpg\",1)\n",
    "blank = cv2.imread(\"blank.png\",1)\n",
    "image = imutils.resize(image, width=600,height=600)\n",
    "blank = imutils.resize(blank, width=1000,height=1000)\n",
    "\n",
    "gray = cv2.cvtColor(image, cv2.COLOR_BGR2GRAY)\n",
    "claheim = clahe.apply(gray)\n",
    "cv2.imshow('gray1 image', gray)\n",
    "cv2.imshow('clache1 image',claheim)\n",
    "rects = detector(gray, 1)\n",
    "for (i, rect) in enumerate(rects):\n",
    "    shape = predictor(gray, rect)\n",
    "    shape = face_utils.shape_to_np(shape)\n",
    "    (x, y, w, h) = face_utils.rect_to_bb(rect)\n",
    "\n",
    "    for (x, y) in shape:\n",
    "        x1.append(x)\n",
    "        y1.append(y)\n",
    "        cv2.circle(blank, (x, y), 1, (0, 0, 255), -1)\n",
    "        cv2.circle(image, (x, y), 1, (0, 0, 255), -1)\n",
    "\n",
    "cv2.imshow('Left1', image)\n",
    "cv2.imshow('Filter1', blank)\n",
    "if cv2.waitKey(1) == 27:\n",
    "    cv2.destroyAllWindows()\n"
   ]
  },
  {
   "cell_type": "code",
   "execution_count": null,
   "metadata": {
    "collapsed": true
   },
   "outputs": [],
   "source": []
  }
 ],
 "metadata": {
  "kernelspec": {
   "display_name": "Python 3",
   "language": "python",
   "name": "python3"
  },
  "language_info": {
   "codemirror_mode": {
    "name": "ipython",
    "version": 3
   },
   "file_extension": ".py",
   "mimetype": "text/x-python",
   "name": "python",
   "nbconvert_exporter": "python",
   "pygments_lexer": "ipython3",
   "version": "3.6.3"
  }
 },
 "nbformat": 4,
 "nbformat_minor": 2
}
