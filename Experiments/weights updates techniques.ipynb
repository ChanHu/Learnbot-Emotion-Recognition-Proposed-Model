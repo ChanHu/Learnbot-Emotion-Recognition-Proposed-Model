{
 "cells": [
  {
   "cell_type": "code",
   "execution_count": 1,
   "metadata": {},
   "outputs": [
    {
     "name": "stderr",
     "output_type": "stream",
     "text": [
      "Using TensorFlow backend.\n"
     ]
    }
   ],
   "source": [
    "from keras import Model\n",
    "from keras.models import Sequential\n",
    "from keras.layers import Dense, MaxPool2D, Dropout,MaxPool2D, Activation,BatchNormalization, InputLayer, Embedding, Flatten, Conv2D,concatenate, MaxPooling2D, Input, TimeDistributed\n",
    "from keras.optimizers import SGD, Adam, RMSprop\n",
    "import keras.utils\n",
    "from keras import backend as k\n",
    "from keras.preprocessing.image import ImageDataGenerator, array_to_img, img_to_array, load_img\n",
    "from keras.preprocessing import image\n",
    "from keras.layers import Flatten, LSTM\n",
    "import numpy as np"
   ]
  },
  {
   "cell_type": "code",
   "execution_count": 37,
   "metadata": {},
   "outputs": [
    {
     "name": "stdout",
     "output_type": "stream",
     "text": [
      "[ 0  1  2  3  4  5  6  7  8  9 10 11 12 13 14 15 16 17 18 19 20 21 22 23 24\n",
      " 25 26 27 28 29 30 31 32 33 34 35 36 37 38 39 40 41 42 43 44 45 46 47 48 49\n",
      " 50 51 52 53 54 55 56 57 58 59 60 61 62 63 64 65 66 67 68 69 70 71 72 73 74\n",
      " 75 76 77 78 79 80 81 82 83 84 85 86 87 88 89 90 91 92 93 94 95 96 97 98 99]\n",
      "(100, 10)\n"
     ]
    },
    {
     "data": {
      "text/plain": [
       "'channels_last'"
      ]
     },
     "execution_count": 37,
     "metadata": {},
     "output_type": "execute_result"
    }
   ],
   "source": [
    "data= np.random.rand(100,10).reshape(-1,10)\n",
    "labels = np.array([x for x in range(100)])\n",
    "print(labels)\n",
    "print(data.shape)\n",
    "k.set_image_data_format('channels_last')\n",
    "k.image_data_format()"
   ]
  },
  {
   "cell_type": "code",
   "execution_count": 62,
   "metadata": {},
   "outputs": [
    {
     "name": "stdout",
     "output_type": "stream",
     "text": [
      "[array([[-0.45606476],\n",
      "       [-0.72141284],\n",
      "       [-0.72195798],\n",
      "       [-0.20552093],\n",
      "       [-0.53230149],\n",
      "       [ 0.38080794],\n",
      "       [ 0.20478511],\n",
      "       [-0.0417484 ],\n",
      "       [-0.22336721],\n",
      "       [ 0.54994088]], dtype=float32), array([ 0.], dtype=float32)]\n",
      "Epoch 1/1\n",
      "100/100 [==============================] - 0s 3ms/step - loss: 3375.5845\n"
     ]
    },
    {
     "data": {
      "text/plain": [
       "<keras.callbacks.History at 0x10540b7f0>"
      ]
     },
     "execution_count": 62,
     "metadata": {},
     "output_type": "execute_result"
    }
   ],
   "source": [
    "x = Input(shape=(10,))\n",
    "# fl = Flatten()(x)\n",
    "layer = Dense(1)\n",
    "layer.trainable = False\n",
    "y = layer(x)\n",
    "frozen_model = Model(x, y)\n",
    "# in the model below, the weights of `layer` will not be updated during training\n",
    "frozen_model.compile(optimizer='rmsprop', loss='mse')\n",
    "print(layer.get_weights())\n",
    "frozen_model.fit(data, labels)  # this does NOT update the weights of `layer`\n",
    "# frozen_model.summary()\n",
    "# trainable_model.summary()"
   ]
  },
  {
   "cell_type": "code",
   "execution_count": 63,
   "metadata": {},
   "outputs": [
    {
     "name": "stdout",
     "output_type": "stream",
     "text": [
      "[array([[-0.45606476],\n",
      "       [-0.72141284],\n",
      "       [-0.72195798],\n",
      "       [-0.20552093],\n",
      "       [-0.53230149],\n",
      "       [ 0.38080794],\n",
      "       [ 0.20478511],\n",
      "       [-0.0417484 ],\n",
      "       [-0.22336721],\n",
      "       [ 0.54994088]], dtype=float32), array([ 0.], dtype=float32)]\n"
     ]
    }
   ],
   "source": [
    "print(layer.get_weights())"
   ]
  },
  {
   "cell_type": "code",
   "execution_count": 64,
   "metadata": {},
   "outputs": [
    {
     "name": "stdout",
     "output_type": "stream",
     "text": [
      "[array([[-0.45606476],\n",
      "       [-0.72141284],\n",
      "       [-0.72195798],\n",
      "       [-0.20552093],\n",
      "       [-0.53230149],\n",
      "       [ 0.38080794],\n",
      "       [ 0.20478511],\n",
      "       [-0.0417484 ],\n",
      "       [-0.22336721],\n",
      "       [ 0.54994088]], dtype=float32), array([ 0.], dtype=float32)]\n"
     ]
    }
   ],
   "source": [
    "layer.trainable = True\n",
    "trainable_model = Model(x, y)\n",
    "# with this model the weights of the layer will be updated during training (which will also affect the above model since it uses the same layer instance)\n",
    "print(layer.get_weights())\n",
    "trainable_model.compile(optimizer='rmsprop', loss='mse')\n",
    "# trainable_model.fit(data, labels)  # this updates the weights of `layer`"
   ]
  },
  {
   "cell_type": "code",
   "execution_count": 65,
   "metadata": {},
   "outputs": [
    {
     "name": "stdout",
     "output_type": "stream",
     "text": [
      "[array([[-0.45606476],\n",
      "       [-0.72141284],\n",
      "       [-0.72195798],\n",
      "       [-0.20552093],\n",
      "       [-0.53230149],\n",
      "       [ 0.38080794],\n",
      "       [ 0.20478511],\n",
      "       [-0.0417484 ],\n",
      "       [-0.22336721],\n",
      "       [ 0.54994088]], dtype=float32), array([ 0.], dtype=float32)]\n"
     ]
    }
   ],
   "source": [
    "print(layer.get_weights())"
   ]
  },
  {
   "cell_type": "code",
   "execution_count": null,
   "metadata": {
    "collapsed": true
   },
   "outputs": [],
   "source": []
  }
 ],
 "metadata": {
  "kernelspec": {
   "display_name": "Python 3",
   "language": "python",
   "name": "python3"
  },
  "language_info": {
   "codemirror_mode": {
    "name": "ipython",
    "version": 3
   },
   "file_extension": ".py",
   "mimetype": "text/x-python",
   "name": "python",
   "nbconvert_exporter": "python",
   "pygments_lexer": "ipython3",
   "version": "3.6.3"
  }
 },
 "nbformat": 4,
 "nbformat_minor": 2
}
