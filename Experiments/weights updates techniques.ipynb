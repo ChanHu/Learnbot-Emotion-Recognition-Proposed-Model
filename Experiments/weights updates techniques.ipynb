{
 "cells": [
  {
   "cell_type": "code",
   "execution_count": 2,
   "metadata": {},
   "outputs": [
    {
     "name": "stderr",
     "output_type": "stream",
     "text": [
      "Using TensorFlow backend.\n"
     ]
    }
   ],
   "source": [
    "from keras import Model\n",
    "from keras.models import Sequential\n",
    "from keras.layers import Dense, MaxPool2D, Dropout,MaxPool2D, Activation,BatchNormalization, InputLayer, Embedding, Flatten, Conv2D,concatenate, MaxPooling2D, Input, TimeDistributed\n",
    "from keras.optimizers import SGD, Adam, RMSprop\n",
    "import keras.utils\n",
    "from keras import backend as k\n",
    "from keras.preprocessing.image import ImageDataGenerator, array_to_img, img_to_array, load_img\n",
    "from keras.preprocessing import image\n",
    "from keras.layers import Flatten, LSTM\n",
    "import numpy as np"
   ]
  },
  {
   "cell_type": "code",
   "execution_count": 3,
   "metadata": {
    "scrolled": true
   },
   "outputs": [
    {
     "name": "stdout",
     "output_type": "stream",
     "text": [
      "[ 0  1  2  3  4  5  6  7  8  9 10 11 12 13 14 15 16 17 18 19 20 21 22 23 24\n",
      " 25 26 27 28 29 30 31 32 33 34 35 36 37 38 39 40 41 42 43 44 45 46 47 48 49\n",
      " 50 51 52 53 54 55 56 57 58 59 60 61 62 63 64 65 66 67 68 69 70 71 72 73 74\n",
      " 75 76 77 78 79 80 81 82 83 84 85 86 87 88 89 90 91 92 93 94 95 96 97 98 99]\n",
      "(100, 10)\n"
     ]
    },
    {
     "data": {
      "text/plain": [
       "'channels_last'"
      ]
     },
     "execution_count": 3,
     "metadata": {},
     "output_type": "execute_result"
    }
   ],
   "source": [
    "data= np.random.rand(100,10).reshape(-1,10)\n",
    "labels = np.array([x for x in range(100)])\n",
    "print(labels)\n",
    "print(data.shape)\n",
    "k.set_image_data_format('channels_last')\n",
    "k.image_data_format()"
   ]
  },
  {
   "cell_type": "code",
   "execution_count": 69,
   "metadata": {},
   "outputs": [
    {
     "name": "stdout",
     "output_type": "stream",
     "text": [
      "[array([[ 0.15634197],\n",
      "       [ 0.25298661],\n",
      "       [-0.40883663],\n",
      "       [-0.54496944],\n",
      "       [-0.69882178],\n",
      "       [ 0.45251769],\n",
      "       [-0.00411683],\n",
      "       [ 0.73556048],\n",
      "       [ 0.29082972],\n",
      "       [-0.72473305]], dtype=float32), array([ 0.], dtype=float32)]\n",
      "Epoch 1/2\n",
      "100/100 [==============================] - 0s 2ms/step - loss: 3307.4921\n",
      "Epoch 2/2\n",
      "100/100 [==============================] - 0s 233us/step - loss: 3307.4921\n"
     ]
    },
    {
     "data": {
      "text/plain": [
       "<keras.callbacks.History at 0x122a7d710>"
      ]
     },
     "execution_count": 69,
     "metadata": {},
     "output_type": "execute_result"
    }
   ],
   "source": [
    "x = Input(shape=(10,))\n",
    "# fl = Flatten()(x)\n",
    "layer = Dense(1)\n",
    "layer.trainable = False\n",
    "y = layer(x)\n",
    "frozen_model = Model(x, y)\n",
    "# in the model below, the weights of `layer` will not be updated during training\n",
    "frozen_model.compile(optimizer='rmsprop', loss='mse')\n",
    "print(layer.get_weights())\n",
    "frozen_model.fit(data, labels, epochs=2)  # this does NOT update the weights of `layer`\n",
    "# frozen_model.summary()\n",
    "# trainable_model.summary()"
   ]
  },
  {
   "cell_type": "code",
   "execution_count": 70,
   "metadata": {},
   "outputs": [
    {
     "name": "stdout",
     "output_type": "stream",
     "text": [
      "[array([[ 0.15634197],\n",
      "       [ 0.25298661],\n",
      "       [-0.40883663],\n",
      "       [-0.54496944],\n",
      "       [-0.69882178],\n",
      "       [ 0.45251769],\n",
      "       [-0.00411683],\n",
      "       [ 0.73556048],\n",
      "       [ 0.29082972],\n",
      "       [-0.72473305]], dtype=float32), array([ 0.], dtype=float32)]\n"
     ]
    }
   ],
   "source": [
    "print(layer.get_weights())"
   ]
  },
  {
   "cell_type": "code",
   "execution_count": 75,
   "metadata": {},
   "outputs": [
    {
     "name": "stdout",
     "output_type": "stream",
     "text": [
      "[array([[ 0.18529058],\n",
      "       [ 0.28135696],\n",
      "       [-0.37992111],\n",
      "       [-0.51568991],\n",
      "       [-0.67186236],\n",
      "       [ 0.48209172],\n",
      "       [ 0.02579381],\n",
      "       [ 0.76409227],\n",
      "       [ 0.32101047],\n",
      "       [-0.6972791 ]], dtype=float32), array([ 0.02937085], dtype=float32)]\n",
      "[array([[ 0.18529058],\n",
      "       [ 0.28135696],\n",
      "       [-0.37992111],\n",
      "       [-0.51568991],\n",
      "       [-0.67186236],\n",
      "       [ 0.48209172],\n",
      "       [ 0.02579381],\n",
      "       [ 0.76409227],\n",
      "       [ 0.32101047],\n",
      "       [-0.6972791 ]], dtype=float32), array([ 0.02937085], dtype=float32)]\n",
      "Epoch 1/2\n",
      "100/100 [==============================] - 0s 4ms/step - loss: 3288.0354\n",
      "Epoch 2/2\n",
      "100/100 [==============================] - 0s 315us/step - loss: 3283.3968\n"
     ]
    },
    {
     "data": {
      "text/plain": [
       "<keras.callbacks.History at 0x122e5dc50>"
      ]
     },
     "execution_count": 75,
     "metadata": {},
     "output_type": "execute_result"
    }
   ],
   "source": [
    "layer.trainable = True\n",
    "trainable_model = Model(x, y)\n",
    "# with this model the weights of the layer will be updated during training (which will also affect the above model since it uses the same layer instance)\n",
    "print(layer.get_weights())\n",
    "trainable_model.compile(optimizer='rmsprop', loss='mse')\n",
    "print(layer.get_weights())\n",
    "trainable_model.fit(data, labels, epochs=2)  # this updates the weights of `layer`"
   ]
  },
  {
   "cell_type": "code",
   "execution_count": 76,
   "metadata": {},
   "outputs": [
    {
     "name": "stdout",
     "output_type": "stream",
     "text": [
      "[array([[ 0.20033318],\n",
      "       [ 0.29605263],\n",
      "       [-0.36642569],\n",
      "       [-0.50080204],\n",
      "       [-0.65702224],\n",
      "       [ 0.49721378],\n",
      "       [ 0.04046296],\n",
      "       [ 0.77891439],\n",
      "       [ 0.33596554],\n",
      "       [-0.68284214]], dtype=float32), array([ 0.04440275], dtype=float32)]\n"
     ]
    }
   ],
   "source": [
    "print(layer.get_weights())"
   ]
  },
  {
   "cell_type": "code",
   "execution_count": 98,
   "metadata": {},
   "outputs": [
    {
     "name": "stdout",
     "output_type": "stream",
     "text": [
      "[array([[-0.63612962],\n",
      "       [-0.18778682],\n",
      "       [ 0.10898423],\n",
      "       [-0.23963049],\n",
      "       [-0.29758757],\n",
      "       [ 0.61762196],\n",
      "       [-0.48217252],\n",
      "       [-0.73060441],\n",
      "       [-0.27684879],\n",
      "       [-0.46334988]], dtype=float32), array([ 0.], dtype=float32)]\n"
     ]
    }
   ],
   "source": [
    "## multi compilation:\n",
    "x = Input(shape=(10,))\n",
    "layer = Dense(1)\n",
    "y = layer(x)\n",
    "model = Model(x, y)\n",
    "model.compile(optimizer='rmsprop', loss='mse')\n",
    "print(layer.get_weights())\n",
    "#model.fit(data, labels, epochs=2)"
   ]
  },
  {
   "cell_type": "code",
   "execution_count": 100,
   "metadata": {},
   "outputs": [
    {
     "name": "stdout",
     "output_type": "stream",
     "text": [
      "[array([[-0.63612962],\n",
      "       [-0.18778682],\n",
      "       [ 0.10898423],\n",
      "       [-0.23963049],\n",
      "       [-0.29758757],\n",
      "       [ 0.61762196],\n",
      "       [-0.48217252],\n",
      "       [-0.73060441],\n",
      "       [-0.27684879],\n",
      "       [-0.46334988]], dtype=float32), array([ 0.], dtype=float32)]\n",
      "Epoch 1/2\n",
      "100/100 [==============================] - 0s 5ms/step - loss: 3408.0381\n",
      "Epoch 2/2\n",
      "100/100 [==============================] - 0s 101us/step - loss: 3403.4638\n"
     ]
    },
    {
     "data": {
      "text/plain": [
       "<keras.callbacks.History at 0x122a54780>"
      ]
     },
     "execution_count": 100,
     "metadata": {},
     "output_type": "execute_result"
    }
   ],
   "source": [
    "model.compile(optimizer='rmsprop', loss='mse')\n",
    "print(layer.get_weights())\n",
    "model.fit(data, labels, epochs=2)"
   ]
  },
  {
   "cell_type": "code",
   "execution_count": 101,
   "metadata": {},
   "outputs": [
    {
     "name": "stdout",
     "output_type": "stream",
     "text": [
      "[array([[-0.62179238],\n",
      "       [-0.17247243],\n",
      "       [ 0.12389854],\n",
      "       [-0.22547887],\n",
      "       [-0.28274077],\n",
      "       [ 0.63254321],\n",
      "       [-0.46752816],\n",
      "       [-0.71581268],\n",
      "       [-0.26253092],\n",
      "       [-0.44913891]], dtype=float32), array([ 0.01443094], dtype=float32)]\n"
     ]
    }
   ],
   "source": [
    "print(layer.get_weights())"
   ]
  },
  {
   "cell_type": "code",
   "execution_count": 102,
   "metadata": {},
   "outputs": [
    {
     "name": "stdout",
     "output_type": "stream",
     "text": [
      "[array([[ 0.23158962],\n",
      "       [-0.01946658],\n",
      "       [-0.49097741],\n",
      "       [-0.25584164],\n",
      "       [ 0.11467087],\n",
      "       [ 0.05871707],\n",
      "       [-0.07534909],\n",
      "       [-0.22173142],\n",
      "       [-0.35257503],\n",
      "       [ 0.00758022]], dtype=float32), array([ 0.], dtype=float32)]\n",
      "Epoch 1/2\n",
      "100/100 [==============================] - 1s 6ms/step - loss: 3332.8424\n",
      "Epoch 2/2\n",
      "100/100 [==============================] - 0s 94us/step - loss: 3328.1861\n"
     ]
    },
    {
     "data": {
      "text/plain": [
       "<keras.callbacks.History at 0x1234f0c88>"
      ]
     },
     "execution_count": 102,
     "metadata": {},
     "output_type": "execute_result"
    }
   ],
   "source": [
    "#single compilation:\n",
    "q = Input(shape=(10,))\n",
    "layer1 = Dense(1)\n",
    "w = layer1(q)\n",
    "smodel = Model(q, w)\n",
    "smodel.compile(optimizer='rmsprop', loss='mse')\n",
    "print(layer1.get_weights())\n",
    "smodel.fit(data, labels, epochs=2)"
   ]
  },
  {
   "cell_type": "code",
   "execution_count": 104,
   "metadata": {},
   "outputs": [
    {
     "name": "stdout",
     "output_type": "stream",
     "text": [
      "[array([[ 0.24619526],\n",
      "       [-0.00478347],\n",
      "       [-0.47571865],\n",
      "       [-0.24067949],\n",
      "       [ 0.12994383],\n",
      "       [ 0.07384112],\n",
      "       [-0.06034273],\n",
      "       [-0.20707642],\n",
      "       [-0.33747885],\n",
      "       [ 0.02326369]], dtype=float32), array([ 0.01532621], dtype=float32)]\n"
     ]
    }
   ],
   "source": [
    "print(layer1.get_weights())"
   ]
  },
  {
   "cell_type": "code",
   "execution_count": null,
   "metadata": {
    "collapsed": true
   },
   "outputs": [],
   "source": []
  },
  {
   "cell_type": "code",
   "execution_count": 3,
   "metadata": {},
   "outputs": [
    {
     "name": "stdout",
     "output_type": "stream",
     "text": [
      "[array([[-0.12144244,  0.49257594,  0.42644483, -0.36451843, -0.48227555],\n",
      "       [-0.37514138,  0.59973472,  0.03718883,  0.15814346, -0.00366718],\n",
      "       [ 0.04310793, -0.36087582, -0.03071201, -0.48836142, -0.57176274],\n",
      "       [ 0.50201648, -0.22273788,  0.51126128, -0.19479424, -0.39371181],\n",
      "       [-0.39855033,  0.52311677,  0.37917   , -0.39059925, -0.52336669],\n",
      "       [ 0.08002967,  0.2174924 ,  0.04635668,  0.05197614,  0.54534811],\n",
      "       [ 0.05568808, -0.02193648,  0.39986473,  0.3651759 ,  0.4453432 ],\n",
      "       [ 0.08211887, -0.39704531, -0.03979748, -0.60755891,  0.26315117],\n",
      "       [-0.19277215,  0.20959634,  0.4459849 ,  0.12118274, -0.55630201],\n",
      "       [-0.18994471, -0.48391676, -0.49149483, -0.09236181, -0.27597672]], dtype=float32), array([ 0.,  0.,  0.,  0.,  0.], dtype=float32)]\n",
      "[array([[-0.07826328],\n",
      "       [ 0.79711127],\n",
      "       [ 0.01926231],\n",
      "       [ 0.06480241],\n",
      "       [-0.80039716]], dtype=float32), array([ 0.], dtype=float32)]\n",
      "Epoch 1/2\n",
      "100/100 [==============================] - 0s 979us/step - loss: 3189.0932\n",
      "Epoch 2/2\n",
      "100/100 [==============================] - 0s 104us/step - loss: 3178.3253\n"
     ]
    },
    {
     "data": {
      "text/plain": [
       "<keras.callbacks.History at 0x1263c4978>"
      ]
     },
     "execution_count": 3,
     "metadata": {},
     "output_type": "execute_result"
    }
   ],
   "source": [
    "x = Input(shape=(10,))\n",
    "layer_inter = Dense(5)\n",
    "ll = layer_inter(x)\n",
    "layer = Dense(1)\n",
    "layer.trainable = True\n",
    "y = layer(ll)\n",
    "trainable_model = Model(x, y)\n",
    "print(layer_inter.get_weights())\n",
    "print(layer.get_weights())\n",
    "trainable_model.compile(optimizer='rmsprop', loss='mse')\n",
    "#layer.trainable = True\n",
    "# trainable_model.compile(optimizer='rmsprop', loss='mse')\n",
    "trainable_model.fit(data, labels,epochs=2) "
   ]
  },
  {
   "cell_type": "code",
   "execution_count": 4,
   "metadata": {},
   "outputs": [
    {
     "name": "stdout",
     "output_type": "stream",
     "text": [
      "[array([[-0.13729225,  0.50801575,  0.44322488, -0.3497586 , -0.49771154],\n",
      "       [-0.39099774,  0.61519623,  0.05394101,  0.17294849, -0.01912525],\n",
      "       [ 0.0281068 , -0.34627169, -0.01481261, -0.47441551, -0.58636349],\n",
      "       [ 0.48656246, -0.2077096 ,  0.52769268, -0.18047188, -0.40873647],\n",
      "       [-0.41480133,  0.53896755,  0.39632216, -0.37541461, -0.53921396],\n",
      "       [ 0.06440556,  0.23273435,  0.06283253,  0.06658716,  0.53010941],\n",
      "       [ 0.0397961 , -0.00646009,  0.41670266,  0.37996244,  0.42987031],\n",
      "       [ 0.06651502, -0.38185543, -0.02324674, -0.59305352,  0.24796493],\n",
      "       [-0.20781493,  0.22423597,  0.46194652,  0.13515964, -0.57093841],\n",
      "       [-0.20468332, -0.46959788, -0.47578305, -0.07872872, -0.29029226]], dtype=float32), array([-0.01551564,  0.01510432,  0.01645174,  0.01442646, -0.01510078], dtype=float32)]\n",
      "[array([[-0.09455687],\n",
      "       [ 0.81371158],\n",
      "       [ 0.03497541],\n",
      "       [ 0.04990122],\n",
      "       [-0.81554884]], dtype=float32), array([ 0.015056], dtype=float32)]\n"
     ]
    }
   ],
   "source": [
    "print(layer_inter.get_weights())\n",
    "# print(layer.get_weights())\n",
    "print(layer.get_weights())"
   ]
  },
  {
   "cell_type": "code",
   "execution_count": 12,
   "metadata": {},
   "outputs": [
    {
     "name": "stdout",
     "output_type": "stream",
     "text": [
      "[array([[-0.3818664 ],\n",
      "       [ 0.06747496],\n",
      "       [ 0.47745997],\n",
      "       [-0.15086895],\n",
      "       [ 0.10193968],\n",
      "       [-0.64543194],\n",
      "       [-0.06553507],\n",
      "       [-0.59022456],\n",
      "       [ 0.4501254 ],\n",
      "       [ 0.12291121]], dtype=float32), array([ 0.], dtype=float32)]\n",
      "Epoch 1/2\n",
      "100/100 [==============================] - 0s 361us/step - loss: 3314.6382\n",
      "Epoch 2/2\n",
      "100/100 [==============================] - 0s 235us/step - loss: 3314.6382\n",
      "[array([[-0.3818664 ],\n",
      "       [ 0.06747496],\n",
      "       [ 0.47745997],\n",
      "       [-0.15086895],\n",
      "       [ 0.10193968],\n",
      "       [-0.64543194],\n",
      "       [-0.06553507],\n",
      "       [-0.59022456],\n",
      "       [ 0.4501254 ],\n",
      "       [ 0.12291121]], dtype=float32), array([ 0.], dtype=float32)]\n",
      "Epoch 1/2\n",
      "100/100 [==============================] - 0s 574us/step - loss: 3312.8406\n",
      "Epoch 2/2\n",
      "100/100 [==============================] - 0s 85us/step - loss: 3308.4529\n"
     ]
    },
    {
     "data": {
      "text/plain": [
       "<keras.callbacks.History at 0x11f9bf048>"
      ]
     },
     "execution_count": 12,
     "metadata": {},
     "output_type": "execute_result"
    }
   ],
   "source": [
    "###trainable layers inbetween\n",
    "x = Input(shape=(10,))\n",
    "layer = Dense(1)\n",
    "layer.trainable = False\n",
    "y = layer(x)\n",
    "frozen_model = Model(x, y)\n",
    "frozen_model.compile(optimizer='rmsprop', loss='mse')\n",
    "print(layer.get_weights())\n",
    "frozen_model.fit(data, labels, epochs=2)  \n",
    "layer.trainable = True\n",
    "frozen_model.compile(optimizer='rmsprop', loss='mse')\n",
    "print(layer.get_weights())\n",
    "frozen_model.fit(data, labels, epochs=2)  "
   ]
  },
  {
   "cell_type": "code",
   "execution_count": 13,
   "metadata": {},
   "outputs": [
    {
     "name": "stdout",
     "output_type": "stream",
     "text": [
      "[array([[-0.36666888],\n",
      "       [ 0.08221347],\n",
      "       [ 0.49210215],\n",
      "       [-0.13541669],\n",
      "       [ 0.1169631 ],\n",
      "       [-0.63060057],\n",
      "       [-0.0501224 ],\n",
      "       [-0.57489318],\n",
      "       [ 0.46515137],\n",
      "       [ 0.13771351]], dtype=float32), array([ 0.01488426], dtype=float32)]\n"
     ]
    }
   ],
   "source": [
    "print(layer.get_weights())"
   ]
  },
  {
   "cell_type": "code",
   "execution_count": null,
   "metadata": {
    "collapsed": true
   },
   "outputs": [],
   "source": []
  }
 ],
 "metadata": {
  "kernelspec": {
   "display_name": "Python 3",
   "language": "python",
   "name": "python3"
  },
  "language_info": {
   "codemirror_mode": {
    "name": "ipython",
    "version": 3
   },
   "file_extension": ".py",
   "mimetype": "text/x-python",
   "name": "python",
   "nbconvert_exporter": "python",
   "pygments_lexer": "ipython3",
   "version": "3.6.3"
  }
 },
 "nbformat": 4,
 "nbformat_minor": 2
}
