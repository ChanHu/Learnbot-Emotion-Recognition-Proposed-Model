{
 "cells": [
  {
   "cell_type": "code",
   "execution_count": 1,
   "metadata": {},
   "outputs": [
    {
     "name": "stderr",
     "output_type": "stream",
     "text": [
      "Using TensorFlow backend.\n"
     ]
    }
   ],
   "source": [
    "from keras import Model\n",
    "from keras.models import Sequential\n",
    "from keras.layers import Dense, MaxPool2D, Dropout,MaxPool2D, Activation,BatchNormalization, InputLayer, Embedding, Flatten, Conv2D,concatenate, MaxPooling2D, Input, TimeDistributed\n",
    "from keras.optimizers import SGD, Adam, RMSprop\n",
    "import keras.utils\n",
    "from keras import backend as k\n",
    "from keras.preprocessing.image import ImageDataGenerator, array_to_img, img_to_array, load_img\n",
    "from keras.preprocessing import image\n",
    "from keras.layers import Flatten, LSTM\n",
    "import numpy as np"
   ]
  },
  {
   "cell_type": "code",
   "execution_count": 128,
   "metadata": {},
   "outputs": [
    {
     "name": "stdout",
     "output_type": "stream",
     "text": [
      "[ 0  1  2  3  4  5  6  7  8  9 10 11 12 13 14 15 16 17 18 19 20 21 22 23 24\n",
      " 25 26 27 28 29 30 31 32 33 34 35 36 37 38 39 40 41 42 43 44 45 46 47 48 49\n",
      " 50 51 52 53 54 55 56 57 58 59 60 61 62 63 64 65 66 67 68 69 70 71 72 73 74\n",
      " 75 76 77 78 79 80 81 82 83 84 85 86 87 88 89 90 91 92 93 94 95 96 97 98 99]\n",
      "(100, 10)\n"
     ]
    },
    {
     "data": {
      "text/plain": [
       "'channels_last'"
      ]
     },
     "execution_count": 128,
     "metadata": {},
     "output_type": "execute_result"
    }
   ],
   "source": [
    "data= np.random.rand(100,10).reshape(-1,10)\n",
    "labels = np.array([x for x in range(100)])\n",
    "print(labels)\n",
    "print(data.shape)\n",
    "k.set_image_data_format('channels_last')\n",
    "k.image_data_format()"
   ]
  },
  {
   "cell_type": "code",
   "execution_count": 69,
   "metadata": {},
   "outputs": [
    {
     "name": "stdout",
     "output_type": "stream",
     "text": [
      "[array([[ 0.15634197],\n",
      "       [ 0.25298661],\n",
      "       [-0.40883663],\n",
      "       [-0.54496944],\n",
      "       [-0.69882178],\n",
      "       [ 0.45251769],\n",
      "       [-0.00411683],\n",
      "       [ 0.73556048],\n",
      "       [ 0.29082972],\n",
      "       [-0.72473305]], dtype=float32), array([ 0.], dtype=float32)]\n",
      "Epoch 1/2\n",
      "100/100 [==============================] - 0s 2ms/step - loss: 3307.4921\n",
      "Epoch 2/2\n",
      "100/100 [==============================] - 0s 233us/step - loss: 3307.4921\n"
     ]
    },
    {
     "data": {
      "text/plain": [
       "<keras.callbacks.History at 0x122a7d710>"
      ]
     },
     "execution_count": 69,
     "metadata": {},
     "output_type": "execute_result"
    }
   ],
   "source": [
    "x = Input(shape=(10,))\n",
    "# fl = Flatten()(x)\n",
    "layer = Dense(1)\n",
    "layer.trainable = False\n",
    "y = layer(x)\n",
    "frozen_model = Model(x, y)\n",
    "# in the model below, the weights of `layer` will not be updated during training\n",
    "frozen_model.compile(optimizer='rmsprop', loss='mse')\n",
    "print(layer.get_weights())\n",
    "frozen_model.fit(data, labels, epochs=2)  # this does NOT update the weights of `layer`\n",
    "# frozen_model.summary()\n",
    "# trainable_model.summary()"
   ]
  },
  {
   "cell_type": "code",
   "execution_count": 70,
   "metadata": {},
   "outputs": [
    {
     "name": "stdout",
     "output_type": "stream",
     "text": [
      "[array([[ 0.15634197],\n",
      "       [ 0.25298661],\n",
      "       [-0.40883663],\n",
      "       [-0.54496944],\n",
      "       [-0.69882178],\n",
      "       [ 0.45251769],\n",
      "       [-0.00411683],\n",
      "       [ 0.73556048],\n",
      "       [ 0.29082972],\n",
      "       [-0.72473305]], dtype=float32), array([ 0.], dtype=float32)]\n"
     ]
    }
   ],
   "source": [
    "print(layer.get_weights())"
   ]
  },
  {
   "cell_type": "code",
   "execution_count": 75,
   "metadata": {},
   "outputs": [
    {
     "name": "stdout",
     "output_type": "stream",
     "text": [
      "[array([[ 0.18529058],\n",
      "       [ 0.28135696],\n",
      "       [-0.37992111],\n",
      "       [-0.51568991],\n",
      "       [-0.67186236],\n",
      "       [ 0.48209172],\n",
      "       [ 0.02579381],\n",
      "       [ 0.76409227],\n",
      "       [ 0.32101047],\n",
      "       [-0.6972791 ]], dtype=float32), array([ 0.02937085], dtype=float32)]\n",
      "[array([[ 0.18529058],\n",
      "       [ 0.28135696],\n",
      "       [-0.37992111],\n",
      "       [-0.51568991],\n",
      "       [-0.67186236],\n",
      "       [ 0.48209172],\n",
      "       [ 0.02579381],\n",
      "       [ 0.76409227],\n",
      "       [ 0.32101047],\n",
      "       [-0.6972791 ]], dtype=float32), array([ 0.02937085], dtype=float32)]\n",
      "Epoch 1/2\n",
      "100/100 [==============================] - 0s 4ms/step - loss: 3288.0354\n",
      "Epoch 2/2\n",
      "100/100 [==============================] - 0s 315us/step - loss: 3283.3968\n"
     ]
    },
    {
     "data": {
      "text/plain": [
       "<keras.callbacks.History at 0x122e5dc50>"
      ]
     },
     "execution_count": 75,
     "metadata": {},
     "output_type": "execute_result"
    }
   ],
   "source": [
    "layer.trainable = True\n",
    "trainable_model = Model(x, y)\n",
    "# with this model the weights of the layer will be updated during training (which will also affect the above model since it uses the same layer instance)\n",
    "print(layer.get_weights())\n",
    "trainable_model.compile(optimizer='rmsprop', loss='mse')\n",
    "print(layer.get_weights())\n",
    "trainable_model.fit(data, labels, epochs=2)  # this updates the weights of `layer`"
   ]
  },
  {
   "cell_type": "code",
   "execution_count": 76,
   "metadata": {},
   "outputs": [
    {
     "name": "stdout",
     "output_type": "stream",
     "text": [
      "[array([[ 0.20033318],\n",
      "       [ 0.29605263],\n",
      "       [-0.36642569],\n",
      "       [-0.50080204],\n",
      "       [-0.65702224],\n",
      "       [ 0.49721378],\n",
      "       [ 0.04046296],\n",
      "       [ 0.77891439],\n",
      "       [ 0.33596554],\n",
      "       [-0.68284214]], dtype=float32), array([ 0.04440275], dtype=float32)]\n"
     ]
    }
   ],
   "source": [
    "print(layer.get_weights())"
   ]
  },
  {
   "cell_type": "code",
   "execution_count": 98,
   "metadata": {},
   "outputs": [
    {
     "name": "stdout",
     "output_type": "stream",
     "text": [
      "[array([[-0.63612962],\n",
      "       [-0.18778682],\n",
      "       [ 0.10898423],\n",
      "       [-0.23963049],\n",
      "       [-0.29758757],\n",
      "       [ 0.61762196],\n",
      "       [-0.48217252],\n",
      "       [-0.73060441],\n",
      "       [-0.27684879],\n",
      "       [-0.46334988]], dtype=float32), array([ 0.], dtype=float32)]\n"
     ]
    }
   ],
   "source": [
    "## multi compilation:\n",
    "x = Input(shape=(10,))\n",
    "layer = Dense(1)\n",
    "y = layer(x)\n",
    "model = Model(x, y)\n",
    "model.compile(optimizer='rmsprop', loss='mse')\n",
    "print(layer.get_weights())\n",
    "#model.fit(data, labels, epochs=2)"
   ]
  },
  {
   "cell_type": "code",
   "execution_count": 100,
   "metadata": {},
   "outputs": [
    {
     "name": "stdout",
     "output_type": "stream",
     "text": [
      "[array([[-0.63612962],\n",
      "       [-0.18778682],\n",
      "       [ 0.10898423],\n",
      "       [-0.23963049],\n",
      "       [-0.29758757],\n",
      "       [ 0.61762196],\n",
      "       [-0.48217252],\n",
      "       [-0.73060441],\n",
      "       [-0.27684879],\n",
      "       [-0.46334988]], dtype=float32), array([ 0.], dtype=float32)]\n",
      "Epoch 1/2\n",
      "100/100 [==============================] - 0s 5ms/step - loss: 3408.0381\n",
      "Epoch 2/2\n",
      "100/100 [==============================] - 0s 101us/step - loss: 3403.4638\n"
     ]
    },
    {
     "data": {
      "text/plain": [
       "<keras.callbacks.History at 0x122a54780>"
      ]
     },
     "execution_count": 100,
     "metadata": {},
     "output_type": "execute_result"
    }
   ],
   "source": [
    "model.compile(optimizer='rmsprop', loss='mse')\n",
    "print(layer.get_weights())\n",
    "model.fit(data, labels, epochs=2)"
   ]
  },
  {
   "cell_type": "code",
   "execution_count": 101,
   "metadata": {},
   "outputs": [
    {
     "name": "stdout",
     "output_type": "stream",
     "text": [
      "[array([[-0.62179238],\n",
      "       [-0.17247243],\n",
      "       [ 0.12389854],\n",
      "       [-0.22547887],\n",
      "       [-0.28274077],\n",
      "       [ 0.63254321],\n",
      "       [-0.46752816],\n",
      "       [-0.71581268],\n",
      "       [-0.26253092],\n",
      "       [-0.44913891]], dtype=float32), array([ 0.01443094], dtype=float32)]\n"
     ]
    }
   ],
   "source": [
    "print(layer.get_weights())"
   ]
  },
  {
   "cell_type": "code",
   "execution_count": 102,
   "metadata": {},
   "outputs": [
    {
     "name": "stdout",
     "output_type": "stream",
     "text": [
      "[array([[ 0.23158962],\n",
      "       [-0.01946658],\n",
      "       [-0.49097741],\n",
      "       [-0.25584164],\n",
      "       [ 0.11467087],\n",
      "       [ 0.05871707],\n",
      "       [-0.07534909],\n",
      "       [-0.22173142],\n",
      "       [-0.35257503],\n",
      "       [ 0.00758022]], dtype=float32), array([ 0.], dtype=float32)]\n",
      "Epoch 1/2\n",
      "100/100 [==============================] - 1s 6ms/step - loss: 3332.8424\n",
      "Epoch 2/2\n",
      "100/100 [==============================] - 0s 94us/step - loss: 3328.1861\n"
     ]
    },
    {
     "data": {
      "text/plain": [
       "<keras.callbacks.History at 0x1234f0c88>"
      ]
     },
     "execution_count": 102,
     "metadata": {},
     "output_type": "execute_result"
    }
   ],
   "source": [
    "#single compilation:\n",
    "q = Input(shape=(10,))\n",
    "layer1 = Dense(1)\n",
    "w = layer1(q)\n",
    "smodel = Model(q, w)\n",
    "smodel.compile(optimizer='rmsprop', loss='mse')\n",
    "print(layer1.get_weights())\n",
    "smodel.fit(data, labels, epochs=2)"
   ]
  },
  {
   "cell_type": "code",
   "execution_count": 104,
   "metadata": {},
   "outputs": [
    {
     "name": "stdout",
     "output_type": "stream",
     "text": [
      "[array([[ 0.24619526],\n",
      "       [-0.00478347],\n",
      "       [-0.47571865],\n",
      "       [-0.24067949],\n",
      "       [ 0.12994383],\n",
      "       [ 0.07384112],\n",
      "       [-0.06034273],\n",
      "       [-0.20707642],\n",
      "       [-0.33747885],\n",
      "       [ 0.02326369]], dtype=float32), array([ 0.01532621], dtype=float32)]\n"
     ]
    }
   ],
   "source": [
    "print(layer1.get_weights())"
   ]
  },
  {
   "cell_type": "code",
   "execution_count": null,
   "metadata": {
    "collapsed": true
   },
   "outputs": [],
   "source": []
  },
  {
   "cell_type": "code",
   "execution_count": 129,
   "metadata": {},
   "outputs": [
    {
     "name": "stdout",
     "output_type": "stream",
     "text": [
      "[array([[ 0.33442318,  0.3552075 , -0.60891145, -0.52511913,  0.37329477],\n",
      "       [ 0.00890696,  0.46135598,  0.28645337, -0.04555202,  0.21198767],\n",
      "       [-0.21783936, -0.40780956,  0.17962712,  0.12704784, -0.46789736],\n",
      "       [ 0.31858444, -0.08261889, -0.32647765,  0.04865289,  0.2239697 ],\n",
      "       [-0.1704427 ,  0.60428137,  0.32288617,  0.59541231, -0.47217256],\n",
      "       [ 0.48331863, -0.21616256, -0.46890238,  0.59508604,  0.60766643],\n",
      "       [-0.10876179,  0.262743  , -0.16484392, -0.07062423, -0.51244712],\n",
      "       [-0.29920021,  0.03327012,  0.07448757,  0.62115031, -0.16947931],\n",
      "       [-0.59234923, -0.26015291,  0.51656288, -0.2191188 ,  0.60002857],\n",
      "       [-0.34106395,  0.62322813, -0.29417288, -0.0498631 ,  0.2837835 ]], dtype=float32), array([ 0.,  0.,  0.,  0.,  0.], dtype=float32)]\n",
      "[array([[ 0.0724647 ],\n",
      "       [ 0.98182702],\n",
      "       [-0.57652473],\n",
      "       [-0.03633022],\n",
      "       [ 0.30977106]], dtype=float32), array([ 0.], dtype=float32)]\n",
      "Epoch 1/2\n",
      "100/100 [==============================] - 1s 7ms/step - loss: 3192.4784\n",
      "Epoch 2/2\n",
      "100/100 [==============================] - 0s 131us/step - loss: 3181.7637\n"
     ]
    },
    {
     "data": {
      "text/plain": [
       "<keras.callbacks.History at 0x1251acb00>"
      ]
     },
     "execution_count": 129,
     "metadata": {},
     "output_type": "execute_result"
    }
   ],
   "source": [
    "x = Input(shape=(10,))\n",
    "layer_inter = Dense(5)\n",
    "ll = layer_inter(x)\n",
    "layer = Dense(1)\n",
    "layer.trainable = True\n",
    "y = layer(ll)\n",
    "trainable_model = Model(x, y)\n",
    "print(layer_inter.get_weights())\n",
    "print(layer.get_weights())\n",
    "trainable_model.compile(optimizer='rmsprop', loss='mse')\n",
    "#layer.trainable = True\n",
    "# trainable_model.compile(optimizer='rmsprop', loss='mse')\n",
    "trainable_model.fit(data, labels,epochs=2) "
   ]
  },
  {
   "cell_type": "code",
   "execution_count": 130,
   "metadata": {},
   "outputs": [
    {
     "name": "stdout",
     "output_type": "stream",
     "text": [
      "[array([[ 0.34762576,  0.36892763, -0.62266028, -0.5378679 ,  0.3870936 ],\n",
      "       [ 0.02168901,  0.47468716,  0.27309188, -0.05785039,  0.22540252],\n",
      "       [-0.20492359, -0.39442509,  0.16621633,  0.11453494, -0.45444134],\n",
      "       [ 0.33201891, -0.06866497, -0.34046039,  0.03567895,  0.23800278],\n",
      "       [-0.15839747,  0.61684734,  0.31029159,  0.58382106, -0.45952743],\n",
      "       [ 0.49646646, -0.20248643, -0.48260787,  0.58240217,  0.62142324],\n",
      "       [-0.09533431,  0.27669016, -0.17881964, -0.08360198, -0.49842131],\n",
      "       [-0.2859928 ,  0.0470015 ,  0.06072727,  0.60840702, -0.15566838],\n",
      "       [-0.57844263, -0.24570851,  0.50208861, -0.23255394,  0.614555  ],\n",
      "       [-0.32745484,  0.63738328, -0.30835819, -0.0629889 ,  0.298022  ]], dtype=float32), array([ 0.01325716,  0.01380727, -0.01383767, -0.01277149,  0.01389113], dtype=float32)]\n",
      "[array([[ 0.05879601],\n",
      "       [ 0.99539286],\n",
      "       [-0.59107709],\n",
      "       [-0.02434955],\n",
      "       [ 0.32480225]], dtype=float32), array([ 0.01377271], dtype=float32)]\n"
     ]
    }
   ],
   "source": [
    "print(layer_inter.get_weights())\n",
    "# print(layer.get_weights())\n",
    "print(layer.get_weights())"
   ]
  },
  {
   "cell_type": "code",
   "execution_count": null,
   "metadata": {
    "collapsed": true
   },
   "outputs": [],
   "source": []
  }
 ],
 "metadata": {
  "kernelspec": {
   "display_name": "Python 3",
   "language": "python",
   "name": "python3"
  },
  "language_info": {
   "codemirror_mode": {
    "name": "ipython",
    "version": 3
   },
   "file_extension": ".py",
   "mimetype": "text/x-python",
   "name": "python",
   "nbconvert_exporter": "python",
   "pygments_lexer": "ipython3",
   "version": "3.6.3"
  }
 },
 "nbformat": 4,
 "nbformat_minor": 2
}
